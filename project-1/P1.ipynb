{
 "cells": [
  {
   "cell_type": "code",
   "execution_count": 6,
   "metadata": {},
   "outputs": [
    {
     "data": {
      "text/plain": [
       "<torch._C.Generator at 0x78f44ffe8f10>"
      ]
     },
     "execution_count": 6,
     "metadata": {},
     "output_type": "execute_result"
    }
   ],
   "source": [
    "import os\n",
    "\n",
    "import numpy as np\n",
    "import pandas as pd\n",
    "import seaborn as sns\n",
    "import matplotlib.pyplot as plt\n",
    "\n",
    "import torch\n",
    "import torch.nn as nn\n",
    "import torch.optim as optim\n",
    "from torch.utils.data import DataLoader, Dataset\n",
    "\n",
    "from sklearn.model_selection import StratifiedShuffleSplit\n",
    "from sklearn.metrics import precision_recall_fscore_support, accuracy_score, confusion_matrix, cohen_kappa_score, explained_variance_score, log_loss\n",
    "\n",
    "# Set random seed for reproducibility\n",
    "seed = 154727\n",
    "np.random.seed(seed=seed)\n",
    "torch.manual_seed(seed)\n"
   ]
  },
  {
   "cell_type": "markdown",
   "metadata": {},
   "source": [
    "#### Device Selection:"
   ]
  },
  {
   "cell_type": "code",
   "execution_count": null,
   "metadata": {},
   "outputs": [],
   "source": [
    "# Set device\n",
    "device = torch.device(\"cuda\" if torch.cuda.is_available() else \"cpu\")"
   ]
  },
  {
   "cell_type": "markdown",
   "metadata": {},
   "source": [
    "#### Input Directory"
   ]
  },
  {
   "cell_type": "code",
   "execution_count": null,
   "metadata": {},
   "outputs": [],
   "source": [
    "input_directory = '/home/projects/eeg_deep_learning/eeg_data_preprocessed/'\n"
   ]
  },
  {
   "cell_type": "markdown",
   "metadata": {},
   "source": [
    "#### Model Training Parameters"
   ]
  },
  {
   "cell_type": "code",
   "execution_count": null,
   "metadata": {},
   "outputs": [],
   "source": [
    "# Number of folds for k-fold cross-validation\n",
    "num_folds = 5\n",
    "\n",
    "# Model training parameters\n",
    "num_epochs = 50\n",
    "learning_rate = 1e-06\n",
    "batch_size_per_gpu = 128\n",
    "batch_size = batch_size_per_gpu * torch.cuda.device_count()\n"
   ]
  },
  {
   "cell_type": "markdown",
   "metadata": {},
   "source": [
    "#### Define ResNet2D model class"
   ]
  },
  {
   "cell_type": "code",
   "execution_count": 10,
   "metadata": {},
   "outputs": [],
   "source": [
    "class ResNetBlock(nn.Module):\n",
    "    def __init__(self, in_channels, out_channels, dropout_rate=0.0):\n",
    "        super(ResNetBlock, self).__init__()\n",
    "        self.conv1 = nn.Conv2d(in_channels, out_channels, kernel_size=(3, 1), padding=(1, 0))\n",
    "        self.bn1 = nn.BatchNorm2d(out_channels)\n",
    "        self.relu = nn.ReLU()\n",
    "        self.dropout1 = nn.Dropout(dropout_rate)\n",
    "        \n",
    "        self.conv2 = nn.Conv2d(out_channels, out_channels, kernel_size=(3, 1), padding=(1, 0))\n",
    "        self.bn2 = nn.BatchNorm2d(out_channels)\n",
    "        self.dropout2 = nn.Dropout(dropout_rate)\n",
    "        \n",
    "        self.shortcut = nn.Conv2d(in_channels, out_channels, kernel_size=1) if in_channels != out_channels else nn.Identity()\n",
    "\n",
    "    def forward(self, x):\n",
    "        residual = self.shortcut(x)\n",
    "        out = self.conv1(x)\n",
    "        out = self.bn1(out)\n",
    "        out = self.relu(out)\n",
    "        out = self.dropout1(out)  # Apply dropout after the first activation\n",
    "        \n",
    "        out = self.conv2(out)\n",
    "        out = self.bn2(out)\n",
    "        out = out + residual\n",
    "        out = self.relu(out)\n",
    "        out = self.dropout2(out)  # Apply dropout after the residual connection\n",
    "        return out\n"
   ]
  },
  {
   "cell_type": "markdown",
   "metadata": {},
   "source": [
    "#### Define SlumberNet model class"
   ]
  },
  {
   "cell_type": "code",
   "execution_count": 11,
   "metadata": {},
   "outputs": [],
   "source": [
    "class SlumberNet(nn.Module):\n",
    "    def __init__(self, input_channels=1, num_classes=3, n_feature_maps=8, n_blocks=7, dropout_rate=0.0):\n",
    "        super(SlumberNet, self).__init__()\n",
    "        self.layers = []\n",
    "        for i in range(n_blocks):\n",
    "            self.layers.append(ResNetBlock(input_channels if i == 0 else n_feature_maps * (2 ** (i - 1)), n_feature_maps * (2 ** i), dropout_rate))\n",
    "        self.layers = nn.Sequential(*self.layers)\n",
    "        self.global_avg_pool = nn.AdaptiveAvgPool2d((1, 1))\n",
    "        self.fc = nn.Linear(n_feature_maps * (2 ** (n_blocks - 1)), num_classes)\n",
    "        self.softmax = nn.Softmax(dim=1)\n",
    "\n",
    "    def forward(self, x):\n",
    "        x = self.layers(x)\n",
    "        x = self.global_avg_pool(x)\n",
    "        x = torch.flatten(x, 1)  # Flatten before feeding to fully connected layer\n",
    "        x = self.fc(x)\n",
    "        return self.softmax(x)\n",
    "\n",
    "# Custom Dataset with Augmentation\n",
    "class SleepDataset(Dataset):\n",
    "    def __init__(self, eeg_data, emg_data, labels, augment=False):\n",
    "        self.eeg_data = eeg_data\n",
    "        self.emg_data = emg_data\n",
    "        self.labels = labels\n",
    "        self.augment = augment\n",
    "\n",
    "    def augment_data(self, eeg, emg):\n",
    "        # Augment data: random amplitude scaling and temporal shifts\n",
    "        eeg_amp = np.random.uniform(0.7, 1.3, eeg.shape[0])\n",
    "        emg_amp = np.random.uniform(0.95, 1.05, emg.shape[0])\n",
    "        shift = np.random.randint(-eeg.shape[0], eeg.shape[0])\n",
    "        eeg = np.roll(eeg * eeg_amp, shift)\n",
    "        emg = np.roll(emg * emg_amp, shift)\n",
    "        return eeg, emg\n",
    "\n",
    "    def __len__(self):\n",
    "        return len(self.labels)\n",
    "\n",
    "    def __getitem__(self, idx):\n",
    "        eeg = self.eeg_data[idx]\n",
    "        emg = self.emg_data[idx]\n",
    "        label = self.labels[idx]\n",
    "\n",
    "        if self.augment:\n",
    "            eeg, emg = self.augment_data(eeg, emg)\n",
    "\n",
    "        # Stack the EEG and EMG channels\n",
    "        sample = np.stack([eeg, emg], axis=-1)\n",
    "        return torch.tensor(sample, dtype=torch.float32), torch.tensor(label, dtype=torch.long)\n"
   ]
  },
  {
   "cell_type": "code",
   "execution_count": null,
   "metadata": {},
   "outputs": [],
   "source": []
  },
  {
   "cell_type": "code",
   "execution_count": null,
   "metadata": {},
   "outputs": [],
   "source": []
  },
  {
   "cell_type": "code",
   "execution_count": null,
   "metadata": {},
   "outputs": [],
   "source": []
  },
  {
   "cell_type": "code",
   "execution_count": null,
   "metadata": {},
   "outputs": [],
   "source": []
  },
  {
   "cell_type": "code",
   "execution_count": null,
   "metadata": {},
   "outputs": [],
   "source": []
  }
 ],
 "metadata": {
  "kernelspec": {
   "display_name": "Python 3",
   "language": "python",
   "name": "python3"
  },
  "language_info": {
   "codemirror_mode": {
    "name": "ipython",
    "version": 3
   },
   "file_extension": ".py",
   "mimetype": "text/x-python",
   "name": "python",
   "nbconvert_exporter": "python",
   "pygments_lexer": "ipython3",
   "version": "3.12.3"
  }
 },
 "nbformat": 4,
 "nbformat_minor": 2
}
